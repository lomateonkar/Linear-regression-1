{
 "cells": [
  {
   "cell_type": "code",
   "execution_count": 1,
   "id": "54e8ca06",
   "metadata": {},
   "outputs": [],
   "source": [
    "import pandas as pd\n",
    "import numpy as np"
   ]
  },
  {
   "cell_type": "code",
   "execution_count": 15,
   "id": "b99382ba",
   "metadata": {},
   "outputs": [],
   "source": [
    "X = np.random.randint(0,10,(50,3))\n",
    "y = 0.5 * X[:,0] - 1.5 * X[:,1] + X[:,2] - 2"
   ]
  },
  {
   "cell_type": "code",
   "execution_count": 16,
   "id": "714f2d8f",
   "metadata": {},
   "outputs": [],
   "source": [
    "df = pd.DataFrame(columns=['col1','col2','col3'], data = X)"
   ]
  },
  {
   "cell_type": "code",
   "execution_count": 17,
   "id": "19697e80",
   "metadata": {},
   "outputs": [],
   "source": [
    "df['col4'] = y"
   ]
  },
  {
   "cell_type": "code",
   "execution_count": 18,
   "id": "dfdfd7e4",
   "metadata": {},
   "outputs": [],
   "source": [
    "df.to_csv('customdata.csv', index=False)"
   ]
  },
  {
   "cell_type": "code",
   "execution_count": null,
   "id": "4c73c52f",
   "metadata": {},
   "outputs": [],
   "source": []
  },
  {
   "cell_type": "code",
   "execution_count": 19,
   "id": "77998f9f",
   "metadata": {},
   "outputs": [],
   "source": [
    "import pandas as pd"
   ]
  },
  {
   "cell_type": "code",
   "execution_count": 20,
   "id": "f01f13dd",
   "metadata": {},
   "outputs": [],
   "source": [
    "df = pd.read_csv('customdata.csv')"
   ]
  },
  {
   "cell_type": "code",
   "execution_count": 21,
   "id": "f38b2ac5",
   "metadata": {},
   "outputs": [],
   "source": [
    "X = df[['col1','col2','col3']]\n",
    "y = df['col4']"
   ]
  },
  {
   "cell_type": "code",
   "execution_count": 22,
   "id": "7518ce8c",
   "metadata": {},
   "outputs": [
    {
     "data": {
      "text/plain": [
       "LinearRegression()"
      ]
     },
     "execution_count": 22,
     "metadata": {},
     "output_type": "execute_result"
    }
   ],
   "source": [
    "from sklearn.linear_model import LinearRegression\n",
    "model = LinearRegression()\n",
    "model.fit(X,y)"
   ]
  },
  {
   "cell_type": "code",
   "execution_count": 23,
   "id": "8dd962a5",
   "metadata": {},
   "outputs": [
    {
     "data": {
      "text/plain": [
       "-1.9999999999999993"
      ]
     },
     "execution_count": 23,
     "metadata": {},
     "output_type": "execute_result"
    }
   ],
   "source": [
    "model.intercept_"
   ]
  },
  {
   "cell_type": "code",
   "execution_count": 24,
   "id": "ca7d50b9",
   "metadata": {},
   "outputs": [
    {
     "data": {
      "text/plain": [
       "array([ 0.5, -1.5,  1. ])"
      ]
     },
     "execution_count": 24,
     "metadata": {},
     "output_type": "execute_result"
    }
   ],
   "source": [
    "model.coef_"
   ]
  },
  {
   "cell_type": "code",
   "execution_count": 25,
   "id": "d2d4c8c8",
   "metadata": {},
   "outputs": [
    {
     "data": {
      "text/plain": [
       "array([-2.])"
      ]
     },
     "execution_count": 25,
     "metadata": {},
     "output_type": "execute_result"
    }
   ],
   "source": [
    "q = [[1,1,1]]\n",
    "model.predict(q)"
   ]
  },
  {
   "cell_type": "code",
   "execution_count": null,
   "id": "29ec1e6b",
   "metadata": {},
   "outputs": [],
   "source": []
  }
 ],
 "metadata": {
  "kernelspec": {
   "display_name": "Python 3",
   "language": "python",
   "name": "python3"
  },
  "language_info": {
   "codemirror_mode": {
    "name": "ipython",
    "version": 3
   },
   "file_extension": ".py",
   "mimetype": "text/x-python",
   "name": "python",
   "nbconvert_exporter": "python",
   "pygments_lexer": "ipython3",
   "version": "3.8.8"
  }
 },
 "nbformat": 4,
 "nbformat_minor": 5
}
